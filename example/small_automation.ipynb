{
 "cells": [
  {
   "cell_type": "code",
   "execution_count": 1,
   "metadata": {},
   "outputs": [],
   "source": [
    "import pandas as pd"
   ]
  },
  {
   "cell_type": "code",
   "execution_count": 2,
   "metadata": {},
   "outputs": [
    {
     "data": {
      "text/plain": [
       "array(['cell phone', 'surroundings', 'building', 'others'], dtype=object)"
      ]
     },
     "execution_count": 2,
     "metadata": {},
     "output_type": "execute_result"
    }
   ],
   "source": [
    "# manually defined, for this case specifically\n",
    "allowed_list = []\n",
    "building_class = ['window-blind', 'window', 'ceiling', 'building', 'wall',\n",
    "                  'house', 'wall-brick', 'wall-stone', 'wall-wood']\n",
    "surrounding_class = ['tree', 'fence', 'sky', 'pavement', 'grass',\n",
    "                     'dirt', 'rock', 'road', 'river', 'sand',\n",
    "                     'person', 'bicycle', 'car', 'motorcycle', 'bus',\n",
    "                     'train', 'truck', 'traffic light', 'stop sign', 'parking meter']\n",
    "allowed_list.extend(building_class)\n",
    "allowed_list.extend(surrounding_class)\n",
    "allowed_list.append('cell phone')\n",
    "\n",
    "# read df\n",
    "df = pd.read_csv(r'mapped_roth_middle.tsv', delimiter='\\t')\n",
    "# replace things\n",
    "df.at[~df[\"target\"].isin(allowed_list), \"target\"] = \"others\"\n",
    "df.replace(building_class, 'building', inplace=True)\n",
    "df.replace(surrounding_class, 'surroundings', inplace=True)\n",
    "df.target.unique()"
   ]
  },
  {
   "cell_type": "code",
   "execution_count": 3,
   "metadata": {},
   "outputs": [],
   "source": [
    "# write to new file\n",
    "df.to_csv('replaced_mapped_roth_middle.tsv', sep='\\t')"
   ]
  },
  {
   "cell_type": "code",
   "execution_count": null,
   "metadata": {},
   "outputs": [],
   "source": []
  }
 ],
 "metadata": {
  "kernelspec": {
   "display_name": "Python 3",
   "language": "python",
   "name": "python3"
  },
  "language_info": {
   "codemirror_mode": {
    "name": "ipython",
    "version": 3
   },
   "file_extension": ".py",
   "mimetype": "text/x-python",
   "name": "python",
   "nbconvert_exporter": "python",
   "pygments_lexer": "ipython3",
   "version": "3.7.3"
  }
 },
 "nbformat": 4,
 "nbformat_minor": 4
}
